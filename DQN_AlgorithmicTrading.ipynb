{
  "nbformat": 4,
  "nbformat_minor": 0,
  "metadata": {
    "colab": {
      "provenance": [],
      "gpuType": "V28"
    },
    "kernelspec": {
      "name": "python3",
      "display_name": "Python 3"
    },
    "language_info": {
      "name": "python"
    },
    "accelerator": "TPU"
  },
  "cells": [
    {
      "cell_type": "code",
      "execution_count": null,
      "metadata": {
        "id": "zhZGupQ4qCY0",
        "collapsed": true
      },
      "outputs": [],
      "source": [
        "!pip install yfinance tensorflow pandas numpy\n"
      ]
    },
    {
      "cell_type": "code",
      "source": [
        "import yfinance as yf\n",
        "import pandas as pd\n",
        "import numpy as np\n",
        "import tensorflow as tf\n",
        "from google.colab import files\n",
        "\n",
        "from agent import Agent\n",
        "from trading_env import TradingEnvironment\n",
        "from data_processing import get_data, preprocess_data, normalize_features\n",
        "from tqdm.notebook import tqdm"
      ],
      "metadata": {
        "id": "f600DnAWzdee"
      },
      "execution_count": 5,
      "outputs": []
    },
    {
      "cell_type": "code",
      "source": [
        "# GPU/TPU detection and strategy setup\n",
        "device_name = tf.test.gpu_device_name()\n",
        "if device_name != '/device:GPU:0':\n",
        "    print('GPU device not found, using the CPU instead.')\n",
        "else:\n",
        "    print('Found GPU at: {}'.format(device_name))\n",
        "\n",
        "try:\n",
        "    tpu = tf.distribute.cluster_resolver.TPUClusterResolver()  # Detect TPU\n",
        "    tf.config.experimental_connect_to_cluster(tpu)\n",
        "    tf.tpu.experimental.initialize_tpu_system(tpu)\n",
        "    strategy = tf.distribute.TPUStrategy(tpu)\n",
        "    print(\"Running on TPU\")\n",
        "except ValueError:\n",
        "    strategy = tf.distribute.get_strategy()  # For CPU or GPU\n",
        "    print(\"Running on CPU or GPU\")"
      ],
      "metadata": {
        "id": "G-n0Mbu8s40W"
      },
      "execution_count": null,
      "outputs": []
    },
    {
      "cell_type": "code",
      "source": [
        "# List of assets\n",
        "assets = [\"GC=F\", \"CL=F\", \"^GSPC\", \"^IXIC\", \"^TNX\", \"EURUSD=X\", \"JPYUSD=X\", \"^VIX\"]\n",
        "\n",
        "train_start = \"2007-01-01\"\n",
        "train_end = \"2024-01-01\"\n",
        "test_start = \"2012-01-01\"\n",
        "test_end = \"2024-01-01\"\n",
        "window_size = 30\n",
        "train_years = 5\n",
        "test_years = 4\n",
        "\n",
        "def train_and_test(symbol, start_date, end_date, test_start, test_end, window_size, train_years=4, test_years=4, strategy=None):\n",
        "    prices = get_data(symbol, start_date, end_date)\n",
        "    features = preprocess_data(prices)\n",
        "    normalized_features = normalize_features(features)\n",
        "\n",
        "    train_end_years = pd.date_range(start=start_date, end=end_date, freq=f\"{train_years}Y\").tolist()\n",
        "    train_end_years = train_end_years[1:]\n",
        "\n",
        "    overall_reward = 0\n",
        "    for train_end in train_end_years:\n",
        "        train_start = start_date\n",
        "        test_start = train_end\n",
        "        test_end = test_start + pd.DateOffset(years=test_years)\n",
        "        test_end = min(test_end, pd.Timestamp(end_date))\n",
        "\n",
        "        print(f\"\\nTraining from {train_start} to {train_end}, Testing from {test_start} to {test_end}\")\n",
        "\n",
        "        train_start_idx = 0\n",
        "        train_end_idx = prices.index.get_loc(train_end)\n",
        "        test_start_idx = train_end_idx\n",
        "        test_end_idx = prices.index.get_loc(test_end)\n",
        "\n",
        "        train_env = TradingEnvironment(\n",
        "            prices=prices.iloc[:train_end_idx+1],\n",
        "            features=normalized_features[:train_end_idx+1],\n",
        "            window_size=window_size,\n",
        "            portfolio_ret_w=1.0,\n",
        "            sharpe_w=0.1,\n",
        "            drawdown_w=0.1,\n",
        "            transaction_cost_w=0.1\n",
        "        )\n",
        "\n",
        "        with strategy.scope():\n",
        "            input_shape = (window_size, normalized_features.shape[1])\n",
        "            agent = Agent(strategy=strategy, input_shape=input_shape, num_actions=3)\n",
        "            agent.train(train_env, num_episodes=500)\n",
        "\n",
        "            test_env = TradingEnvironment(\n",
        "                prices=prices.iloc[test_start_idx:test_end_idx+1],\n",
        "                features=normalized_features[test_start_idx:test_end_idx+1],\n",
        "                window_size=window_size,\n",
        "                portfolio_ret_w=1.0,\n",
        "                sharpe_w=0.1,\n",
        "                drawdown_w=0.1,\n",
        "                transaction_cost_w=0.1\n",
        "            )\n",
        "\n",
        "            state = test_env.reset()\n",
        "            done = False\n",
        "            total_reward = 0\n",
        "            while not done:\n",
        "                action = agent.select_action(state)\n",
        "                state, reward, done, _ = test_env.step(action)\n",
        "                total_reward += reward\n",
        "            overall_reward += total_reward\n",
        "\n",
        "        if test_end >= pd.Timestamp(end_date):\n",
        "            break\n",
        "\n",
        "    print(f\"\\nOverall Reward for {symbol}: {overall_reward}\")\n",
        "    return overall_reward\n",
        "\n",
        "for symbol in assets:\n",
        "    train_and_test(symbol, train_start, train_end, test_start, test_end, window_size, train_years, test_years, strategy)\n"
      ],
      "metadata": {
        "id": "Y3YuWP9DqnEH",
        "collapsed": true
      },
      "execution_count": null,
      "outputs": []
    }
  ]
}
